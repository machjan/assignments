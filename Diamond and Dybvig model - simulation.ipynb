# The Model of Bank Run
{
 "cells": [
  {
   "cell_type": "code",
   "execution_count": 42,
   "metadata": {
    "collapsed": true
   },
   "outputs": [],
   "source": [
    "import random\n",
    "import matplotlib.pyplot as plt\n",
    "import plotly.plotly as py\n",
    "from plotly.graph_objs import *\n",
    "import math\n",
    "import sys"
   ]
  },
  {
   "cell_type": "code",
   "execution_count": 43,
   "metadata": {
    "collapsed": true
   },
   "outputs": [],
   "source": [
    "interestRate = 0.2\n",
    "initialInvestment = 10\n",
    "maxWithdrawals = 70\n",
    "numTrials = 100"
   ]
  },
  {
   "cell_type": "code",
   "execution_count": 44,
   "metadata": {
    "collapsed": false
   },
   "outputs": [],
   "source": [
    "def runTrial(interestRate,maxWithdrawals,initialInvestment):\n",
    "        rewards = [initialInvestment,initialInvestment*(1+interestRate),initialInvestment*(1+interestRate)*(1+interestRate)]\n",
    "        numWithdrawals = 0\n",
    "        withdrawParameter = 0\n",
    "        peopleList = []\n",
    "        for i in range(0,100):\n",
    "            peopleList.append([random.normalvariate(.5,.5/3),0,i,0])\n",
    "        for roundNum in range (0,3):\n",
    "            if numWithdrawals < maxWithdrawals:\n",
    "                for person in peopleList:\n",
    "                    if numWithdrawals < maxWithdrawals:\n",
    "                        if not person[1] == 1:\n",
    "                            num = random.random()\n",
    "                            currentRiskAversionParam = person[0]+withdrawParameter-interestRate\n",
    "                            if num < currentRiskAversionParam:\n",
    "                                numWithdrawals = numWithdrawals + 1\n",
    "                                person[1]=1\n",
    "                                withdrawParameter = numWithdrawals/100\n",
    "                                person[3] = rewards[roundNum]\n",
    "        if numWithdrawals < maxWithdrawals:\n",
    "            return 0\n",
    "        else:\n",
    "            return 1"
   ]
  },
  {
   "cell_type": "code",
   "execution_count": 45,
   "metadata": {
    "collapsed": false
   },
   "outputs": [],
   "source": [
    "x = []\n",
    "y = []\n",
    "for inc in range(0,100,1):\n",
    "        interestRate = float(inc)/100\n",
    "        closeSum = 0\n",
    "        for i in range(0,numTrials):\n",
    "            closeSum = closeSum + runTrial(interestRate,maxWithdrawals,initialInvestment)\n",
    "        fractionClose = float(closeSum)/numTrials\n",
    "        x.append(interestRate)\n",
    "        y.append(fractionClose)"
   ]
  },
  {
   "cell_type": "code",
   "execution_count": 48,
   "metadata": {
    "collapsed": false
   },
   "outputs": [
    {
     "data": {
      "image/png": "[encoded data removed]",
      "text/plain": [
       "<matplotlib.figure.Figure at 0xd004ef0>"
      ]
     },
     "metadata": {},
     "output_type": "display_data"
    }
   ],
   "source": [
    "plt.plot(x,y)\n",
    "plt.xlabel(\"interest Rate\")\n",
    "plt.ylabel(\"Bank closure % (out of 100 trials)\")\n",
    "plt.title(\"interest Rate vs. Bank Closure\")\n",
    "plt.show()"
   ]
  },
  {
   "cell_type": "code",
   "execution_count": null,
   "metadata": {
    "collapsed": true
   },
   "outputs": [],
   "source": []
  }
 ],
 "metadata": {
  "anaconda-cloud": {},
  "kernelspec": {
   "display_name": "Python [conda root]",
   "language": "python",
   "name": "conda-root-py"
  },
  "language_info": {
   "codemirror_mode": {
    "name": "ipython",
    "version": 2
   },
   "file_extension": ".py",
   "mimetype": "text/x-python",
   "name": "python",
   "nbconvert_exporter": "python",
   "pygments_lexer": "ipython2",
   "version": "2.7.12"
  }
 },
 "nbformat": 4,
 "nbformat_minor": 1
}
