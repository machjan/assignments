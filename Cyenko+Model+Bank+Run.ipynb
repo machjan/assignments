{
 "cells": [
  {
   "cell_type": "code",
   "execution_count": 32,
   "metadata": {
    "collapsed": true
   },
   "outputs": [],
   "source": [
    "import random\n",
    "import matplotlib.pyplot as plt\n",
    "import plotly.plotly as py\n",
    "from plotly.graph_objs import *\n",
    "import math\n",
    "import sys"
   ]
  },
  {
   "cell_type": "code",
   "execution_count": 33,
   "metadata": {
    "collapsed": true
   },
   "outputs": [],
   "source": [
    "growthRate = 0.2\n",
    "initialInvestment = 10\n",
    "maxWithdrawals = 70\n",
    "numTrials = 100"
   ]
  },
  {
   "cell_type": "code",
   "execution_count": 34,
   "metadata": {
    "collapsed": false
   },
   "outputs": [],
   "source": [
    "def runTrial(growthRate,maxWithdrawals,initialInvestment):\n",
    "        rewards = [initialInvestment,initialInvestment*(1+growthRate),initialInvestment*(1+growthRate)*(1+growthRate)]\n",
    "        rewardParameter = growthRate\n",
    "        numWithdrawals = 0\n",
    "        withdrawParameter = 0\n",
    "        peopleList = []\n",
    "        for i in range(0,100):\n",
    "            peopleList.append([random.normalvariate(.5,.5/3),0,i,0])\n",
    "        for roundNum in range (0,3):\n",
    "            if numWithdrawals < maxWithdrawals:\n",
    "                for person in peopleList:\n",
    "                    if numWithdrawals < maxWithdrawals:\n",
    "                        if not person[1] == 1:\n",
    "                            num = random.random()\n",
    "                            currentRiskAversionParam = person[0]+withdrawParameter-rewardParameter\n",
    "                            if num < currentRiskAversionParam:\n",
    "                                numWithdrawals = numWithdrawals + 1\n",
    "                                person[1]=1\n",
    "                                withdrawParameter = numWithdrawals/100\n",
    "                                person[3] = rewards[roundNum]\n",
    "        if numWithdrawals < maxWithdrawals:\n",
    "            return 0\n",
    "        else:\n",
    "            return 1"
   ]
  },
  {
   "cell_type": "code",
   "execution_count": 37,
   "metadata": {
    "collapsed": false
   },
   "outputs": [
    {
     "name": "stdout",
     "output_type": "stream",
     "text": [
      "0.0 : 1.0\n",
      "0.01 : 1.0\n",
      "0.02 : 1.0\n",
      "0.03 : 1.0\n",
      "0.04 : 0.98\n",
      "0.05 : 0.99\n",
      "0.06 : 0.99\n",
      "0.07 : 0.94\n",
      "0.08 : 0.94\n",
      "0.09 : 0.85\n",
      "0.1 : 0.8\n",
      "0.11 : 0.75\n",
      "0.12 : 0.63\n",
      "0.13 : 0.56\n",
      "0.14 : 0.49\n",
      "0.15 : 0.31\n",
      "0.16 : 0.25\n",
      "0.17 : 0.13\n",
      "0.18 : 0.1\n",
      "0.19 : 0.05\n",
      "0.2 : 0.01\n",
      "0.21 : 0.04\n",
      "0.22 : 0.01\n",
      "0.23 : 0.01\n",
      "0.24 : 0.0\n",
      "0.25 : 0.0\n",
      "0.26 : 0.0\n",
      "0.27 : 0.0\n",
      "0.28 : 0.0\n",
      "0.29 : 0.0\n",
      "0.3 : 0.0\n",
      "0.31 : 0.0\n",
      "0.32 : 0.0\n",
      "0.33 : 0.0\n",
      "0.34 : 0.0\n",
      "0.35 : 0.0\n",
      "0.36 : 0.0\n",
      "0.37 : 0.0\n",
      "0.38 : 0.0\n",
      "0.39 : 0.0\n",
      "0.4 : 0.0\n",
      "0.41 : 0.0\n",
      "0.42 : 0.0\n",
      "0.43 : 0.0\n",
      "0.44 : 0.0\n",
      "0.45 : 0.0\n",
      "0.46 : 0.0\n",
      "0.47 : 0.0\n",
      "0.48 : 0.0\n",
      "0.49 : 0.0\n",
      "0.5 : 0.0\n",
      "0.51 : 0.0\n",
      "0.52 : 0.0\n",
      "0.53 : 0.0\n",
      "0.54 : 0.0\n",
      "0.55 : 0.0\n",
      "0.56 : 0.0\n",
      "0.57 : 0.0\n",
      "0.58 : 0.0\n",
      "0.59 : 0.0\n",
      "0.6 : 0.0\n",
      "0.61 : 0.0\n",
      "0.62 : 0.0\n",
      "0.63 : 0.0\n",
      "0.64 : 0.0\n",
      "0.65 : 0.0\n",
      "0.66 : 0.0\n",
      "0.67 : 0.0\n",
      "0.68 : 0.0\n",
      "0.69 : 0.0\n",
      "0.7 : 0.0\n",
      "0.71 : 0.0\n",
      "0.72 : 0.0\n",
      "0.73 : 0.0\n",
      "0.74 : 0.0\n",
      "0.75 : 0.0\n",
      "0.76 : 0.0\n",
      "0.77 : 0.0\n",
      "0.78 : 0.0\n",
      "0.79 : 0.0\n",
      "0.8 : 0.0\n",
      "0.81 : 0.0\n",
      "0.82 : 0.0\n",
      "0.83 : 0.0\n",
      "0.84 : 0.0\n",
      "0.85 : 0.0\n",
      "0.86 : 0.0\n",
      "0.87 : 0.0\n",
      "0.88 : 0.0\n",
      "0.89 : 0.0\n",
      "0.9 : 0.0\n",
      "0.91 : 0.0\n",
      "0.92 : 0.0\n",
      "0.93 : 0.0\n",
      "0.94 : 0.0\n",
      "0.95 : 0.0\n",
      "0.96 : 0.0\n",
      "0.97 : 0.0\n",
      "0.98 : 0.0\n",
      "0.99 : 0.0\n"
     ]
    }
   ],
   "source": [
    "x = []\n",
    "y = []\n",
    "for inc in range(0,100,1):\n",
    "        growthRate = float(inc)/100\n",
    "        closeSum = 0\n",
    "        for i in range(0,numTrials):\n",
    "            closeSum = closeSum + runTrial(growthRate,maxWithdrawals,initialInvestment)\n",
    "        fractionClose = float(closeSum)/numTrials\n",
    "        print str(growthRate) + \" : \" + str(fractionClose)\n",
    "        x.append(growthRate)\n",
    "        y.append(fractionClose)\n",
    "        "
   ]
  },
  {
   "cell_type": "code",
   "execution_count": 39,
   "metadata": {
    "collapsed": false
   },
   "outputs": [
    {
     "data": {
      "image/png": "[encoded data removed]",
      "text/plain": [
       "<matplotlib.figure.Figure at 0xc9c7780>"
      ]
     },
     "metadata": {},
     "output_type": "display_data"
    }
   ],
   "source": [
    "plt.plot(x,y)\n",
    "plt.xlabel(\"Reward Parameter (equal to the Growth Rate)\")\n",
    "plt.ylabel(\"Bank closure % (out of 100 trials)\")\n",
    "plt.title(\"Reward Pameter vs. Bank Closure\")\n",
    "plt.show()"
   ]
  },
  {
   "cell_type": "code",
   "execution_count": null,
   "metadata": {
    "collapsed": true
   },
   "outputs": [],
   "source": []
  }
 ],
 "metadata": {
  "anaconda-cloud": {},
  "kernelspec": {
   "display_name": "Python [conda root]",
   "language": "python",
   "name": "conda-root-py"
  },
  "language_info": {
   "codemirror_mode": {
    "name": "ipython",
    "version": 2
   },
   "file_extension": ".py",
   "mimetype": "text/x-python",
   "name": "python",
   "nbconvert_exporter": "python",
   "pygments_lexer": "ipython2",
   "version": "2.7.12"
  }
 },
 "nbformat": 4,
 "nbformat_minor": 1
}
